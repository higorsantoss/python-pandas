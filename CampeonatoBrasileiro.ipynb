{
 "cells": [
  {
   "cell_type": "code",
   "execution_count": null,
   "metadata": {},
   "outputs": [],
   "source": [
    "import pandas as pd\n",
    "import requests\n",
    "import logging\n",
    "from os.path import exists\n",
    "\n",
    "\n",
    "def set_up_log(root_name: str) -> None: \n",
    "    logging.root = logging.getLogger(root_name)\n",
    "    logging.basicConfig(level = logging.INFO)\n",
    "\n",
    "\n",
    "#If we want show a log in display\n",
    "set_up_log('CampeonatoBrasileiro')\n",
    "\n",
    "# Ler alguma tabela de algum site na web\n",
    "url = requests.get(\"https://www.uol.com.br/esporte/futebol/campeonatos/brasileirao/\")\n",
    "\n",
    "if(url.status_code == 404):\n",
    "    raise Exception(\"No table was found, check URL address\")\n",
    "elif(url.status_code == 500):\n",
    "    raise Exception(\"Server not available\")\n",
    "else:\n",
    "    uol = pd.read_html(url.text)\n",
    "    # Exibir a quantidade de tabelas encontradas na pagina \n",
    "    #print(f'Total tables: {len(uol)}')\n",
    "\n",
    "# Exibe a tabela encontrada pelo index\n",
    "#display(uol[1])"
   ]
  },
  {
   "cell_type": "code",
   "execution_count": null,
   "metadata": {},
   "outputs": [],
   "source": [
    "# Obtendo os dataframes\n",
    "times_campeonato = uol[0]\n",
    "classificacao_campeonato = uol[1]\n",
    "\n",
    "# Unindo os dois dataframes\n",
    "times_campeonato = times_campeonato.join(classificacao_campeonato)\n"
   ]
  },
  {
   "cell_type": "code",
   "execution_count": null,
   "metadata": {},
   "outputs": [],
   "source": [
    "# Tirando o numero e o caractere especial\n",
    "times_campeonato_formated = times_campeonato.classificação.str.replace('\\d+\\°+', '', regex=True)\n",
    "\n",
    "# Transformando uma series em um dataframe pandas\n",
    "times_campeonato = pd.DataFrame(times_campeonato_formated)\n",
    "\n",
    "# Unindo os dois dataframes\n",
    "times_campeonato = times_campeonato.join(classificacao_campeonato)\n",
    "\n",
    "# Exibindo com a juncao \n",
    "#times_campeonato"
   ]
  },
  {
   "cell_type": "code",
   "execution_count": null,
   "metadata": {},
   "outputs": [],
   "source": [
    "times_campeonato_classificação_to_list = times_campeonato.classificação.tolist()\n",
    "\n",
    "sigla = []\n",
    "time = []\n",
    "\n",
    "for clube in times_campeonato_classificação_to_list:\n",
    "    sigla.append(clube[-3:])\n",
    "    time.append(clube[:-3])"
   ]
  },
  {
   "cell_type": "code",
   "execution_count": null,
   "metadata": {},
   "outputs": [],
   "source": [
    "#Executar esse bloco apenas se for a primeira vez\n",
    "\n",
    "sigla = pd.DataFrame(sigla, columns=['Sigla'])\n",
    "time = pd.DataFrame(time, columns=['Clube'])\n",
    "times_campeonato = times_campeonato.join(sigla)\n",
    "times_campeonato = times_campeonato.join(time)\n",
    "times_campeonato = times_campeonato[['classificação', 'Clube', 'Sigla', 'PG', 'J', 'V', 'E', 'D', 'GC', 'GP', 'SG', '%']]"
   ]
  },
  {
   "cell_type": "code",
   "execution_count": null,
   "metadata": {},
   "outputs": [],
   "source": [
    "times_campeonato = times_campeonato[['Clube', 'Sigla', 'PG', 'J', 'V', 'E', 'D', 'GC', 'GP', 'SG', '%']] \n",
    "\n",
    "# Exibe com as novas colunas\n",
    "times_campeonato"
   ]
  },
  {
   "cell_type": "code",
   "execution_count": null,
   "metadata": {},
   "outputs": [],
   "source": [
    "# Comecando com index do 1 pela primeira vez\n",
    "# Nao executar mais de uma vez, senao o indice vai auto incrementar\n",
    "times_campeonato.index += 1\n",
    "\n",
    "# Exibe dataframe\n",
    "times_campeonato\n"
   ]
  },
  {
   "cell_type": "code",
   "execution_count": null,
   "metadata": {},
   "outputs": [],
   "source": [
    "# Exportar para um txt\n",
    "txtFile = times_campeonato.to_csv(r'CampeonatoBrasileiro_2022.txt', header=True, index=True, sep=' ', mode='a')\n",
    "\n",
    "# Exportar para um Excel\n",
    "xlsxFile = times_campeonato.to_excel(r'CampeonatoBrasileiro_2022.xlsx', header=True, index=True)"
   ]
  },
  {
   "cell_type": "code",
   "execution_count": null,
   "metadata": {},
   "outputs": [],
   "source": [
    "# Verifica se ambos arquivos existem no classpath \n",
    "file_txt_exists = exists(\"CampeonatoBrasileiro_2022.txt\")\n",
    "file_xlsx_exists = exists(\"CampeonatoBrasileiro_2022.xlsx\")"
   ]
  },
  {
   "cell_type": "code",
   "execution_count": null,
   "metadata": {},
   "outputs": [],
   "source": [
    "if(file_txt_exists and file_xlsx_exists):\n",
    "    logging.info('The files txt and xlsx are crated with success in the directory')  \n",
    "elif(file_txt_exists or file_xlsx_exists):\n",
    "    logging.info('Only one file was created, check the directory')  \n",
    "else:\n",
    "    logging.info('There are no files created in the directory')  "
   ]
  }
 ],
 "metadata": {
  "interpreter": {
   "hash": "eb3881927083b0a4a8f75d286d053957b6f14a6742aef63da0c4a25ee74f968a"
  },
  "kernelspec": {
   "display_name": "Python 3.9.0 ('estudo')",
   "language": "python",
   "name": "python3"
  },
  "language_info": {
   "codemirror_mode": {
    "name": "ipython",
    "version": 3
   },
   "file_extension": ".py",
   "mimetype": "text/x-python",
   "name": "python",
   "nbconvert_exporter": "python",
   "pygments_lexer": "ipython3",
   "version": "3.9.7"
  },
  "orig_nbformat": 4
 },
 "nbformat": 4,
 "nbformat_minor": 2
}
